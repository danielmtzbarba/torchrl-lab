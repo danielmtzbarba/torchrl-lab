{
 "cells": [
  {
   "cell_type": "code",
   "execution_count": null,
   "metadata": {
    "vscode": {
     "languageId": "plaintext"
    }
   },
   "outputs": [],
   "source": [
    "import numpy as np"
   ]
  },
  {
   "cell_type": "code",
   "execution_count": null,
   "metadata": {},
   "outputs": [],
   "source": [
    "class Map(object):\n",
    "    def __init__(self) -> None:\n",
    "        self._map_arr = np.array(Image.open(map_path).fli)\n",
    "        self._y, self._x, _ = self._map_arr.shape\n",
    "        self._win_size = 1024\n",
    "        self._win_center = (512, self._y - 1 - (self._win_size / 2))\n",
    "    \n",
    "    def _get_fov(self, loc):\n",
    "        fov = self._map_arr[0:self._win_size, self._x - int(self._win_size): self._y] \n",
    "\n",
    "        print(self._map_arr.shape, fov.shape)\n",
    "        return fov\n",
    "\n",
    "    def _preprocess(self, arr):\n",
    "        return pygame.surfarray.make_surface(arr)\n",
    "\n",
    "    def get_map(self, loc) -> pygame.Surface:\n",
    "        return self._preprocess(self._get_fov(loc))\n",
    "\n",
    "    @property\n",
    "    def map(self) -> np.array:\n",
    "        return self._map_arr\n"
   ]
  }
 ],
 "metadata": {
  "language_info": {
   "name": "python"
  }
 },
 "nbformat": 4,
 "nbformat_minor": 2
}
